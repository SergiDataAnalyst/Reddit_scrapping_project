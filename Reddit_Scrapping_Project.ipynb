{
 "cells": [
  {
   "cell_type": "markdown",
   "id": "fa45f630",
   "metadata": {},
   "source": [
    "# Scrapping Reddit Data and using ChatGPT to write engaging post titles"
   ]
  },
  {
   "cell_type": "markdown",
   "id": "1f2046a7",
   "metadata": {},
   "source": [
    "Web scrapping data can be used with extraction techniques to analyze the impact of specific words and emojis in online communities. This project focuses on Subreddits, which are forums dedicated to specific topics, and looks at how certain keywords and symbols influence the engagement and popularity of posts within these communities. This research provides valuable insights into the role of language and symbols in shaping online conversations and can have important implications for understanding the dynamics of digital communication. In this particular example we scrap data from the subreddit ``r/datascience``. "
   ]
  },
  {
   "cell_type": "markdown",
   "id": "cdc94f35",
   "metadata": {},
   "source": [
    "Necessary libraries"
   ]
  },
  {
   "cell_type": "code",
   "execution_count": 1,
   "id": "8169508f",
   "metadata": {},
   "outputs": [
    {
     "name": "stdout",
     "output_type": "stream",
     "text": [
      "Requirement already satisfied: praw in c:\\users\\pizza\\anaconda3\\lib\\site-packages (7.6.0)\n",
      "Requirement already satisfied: update-checker>=0.18 in c:\\users\\pizza\\anaconda3\\lib\\site-packages (from praw) (0.18.0)\n",
      "Requirement already satisfied: websocket-client>=0.54.0 in c:\\users\\pizza\\anaconda3\\lib\\site-packages (from praw) (1.4.2)\n",
      "Requirement already satisfied: prawcore<3,>=2.1 in c:\\users\\pizza\\anaconda3\\lib\\site-packages (from praw) (2.3.0)\n",
      "Requirement already satisfied: requests<3.0,>=2.6.0 in c:\\users\\pizza\\anaconda3\\lib\\site-packages (from prawcore<3,>=2.1->praw) (2.25.1)\n",
      "Requirement already satisfied: urllib3<1.27,>=1.21.1 in c:\\users\\pizza\\anaconda3\\lib\\site-packages (from requests<3.0,>=2.6.0->prawcore<3,>=2.1->praw) (1.26.4)\n",
      "Requirement already satisfied: certifi>=2017.4.17 in c:\\users\\pizza\\anaconda3\\lib\\site-packages (from requests<3.0,>=2.6.0->prawcore<3,>=2.1->praw) (2020.12.5)\n",
      "Requirement already satisfied: chardet<5,>=3.0.2 in c:\\users\\pizza\\anaconda3\\lib\\site-packages (from requests<3.0,>=2.6.0->prawcore<3,>=2.1->praw) (4.0.0)\n",
      "Requirement already satisfied: idna<3,>=2.5 in c:\\users\\pizza\\anaconda3\\lib\\site-packages (from requests<3.0,>=2.6.0->prawcore<3,>=2.1->praw) (2.10)\n"
     ]
    }
   ],
   "source": [
    "# installs the Python Reddit API Wrapper (praw) library, which allows for easy access to the Reddit API.\n",
    "!pip install praw\n",
    "\n",
    "# imports the praw library.\n",
    "import praw\n",
    "\n",
    "# imports the pandas library, which is used for data manipulation and analysis.\n",
    "import pandas as pd\n",
    "\n",
    "# imports the re (regular expressions) library, which is used for pattern matching in strings.\n",
    "import re\n",
    "\n",
    "# imports the matplotlib library, which is used for data visualization.\n",
    "import matplotlib.pyplot as plt"
   ]
  },
  {
   "cell_type": "markdown",
   "id": "72696f28",
   "metadata": {},
   "source": [
    "## 1. Reddit scrapping bot"
   ]
  },
  {
   "cell_type": "markdown",
   "id": "b42da5a3",
   "metadata": {},
   "source": [
    "The bot can be programmed to scrape specific subreddits, posts, comments, or other data, and can be configured to run at regular intervals to collect up-to-date information. The collected data can then be processed and analyzed to uncover trends, insights, and other information about Reddit and its users. With its ability to automate the data collection process, a Reddit scraping bot can save time and resources compared to manual data gathering methods. In order for this to work you will need to use your own ``cliend_id`` and secret key ``client_secret``."
   ]
  },
  {
   "cell_type": "code",
   "execution_count": 2,
   "id": "a1ad29de",
   "metadata": {},
   "outputs": [
    {
     "name": "stderr",
     "output_type": "stream",
     "text": [
      "Version 7.6.0 of praw is outdated. Version 7.6.1 was released Friday November 11, 2022.\n"
     ]
    }
   ],
   "source": [
    "reddit = praw.Reddit(client_id='***************', client_secret='****************', user_agent='WebScrapping')\n"
   ]
  },
  {
   "cell_type": "markdown",
   "id": "b1b2e906",
   "metadata": {},
   "source": [
    "Alternative command to extract top posts"
   ]
  },
  {
   "cell_type": "code",
   "execution_count": 3,
   "id": "69c8e30a",
   "metadata": {
    "scrolled": true
   },
   "outputs": [],
   "source": [
    "# top_posts = reddit.subreddit('datascience').top(limit=600)\n",
    "# top_posts"
   ]
  },
  {
   "cell_type": "markdown",
   "id": "a3c9f3ee",
   "metadata": {},
   "source": [
    "## 2. Storing the collected data into a .csv file locally"
   ]
  },
  {
   "cell_type": "code",
   "execution_count": 4,
   "id": "09572cef",
   "metadata": {
    "scrolled": true
   },
   "outputs": [
    {
     "data": {
      "text/html": [
       "<div>\n",
       "<style scoped>\n",
       "    .dataframe tbody tr th:only-of-type {\n",
       "        vertical-align: middle;\n",
       "    }\n",
       "\n",
       "    .dataframe tbody tr th {\n",
       "        vertical-align: top;\n",
       "    }\n",
       "\n",
       "    .dataframe thead th {\n",
       "        text-align: right;\n",
       "    }\n",
       "</style>\n",
       "<table border=\"1\" class=\"dataframe\">\n",
       "  <thead>\n",
       "    <tr style=\"text-align: right;\">\n",
       "      <th></th>\n",
       "      <th>title</th>\n",
       "      <th>score</th>\n",
       "      <th>id</th>\n",
       "      <th>subreddit</th>\n",
       "      <th>url</th>\n",
       "      <th>num_comments</th>\n",
       "      <th>body</th>\n",
       "      <th>created</th>\n",
       "    </tr>\n",
       "  </thead>\n",
       "  <tbody>\n",
       "    <tr>\n",
       "      <th>0</th>\n",
       "      <td>Weekly Entering &amp; Transitioning - Thread 06 Fe...</td>\n",
       "      <td>7</td>\n",
       "      <td>10uy5z1</td>\n",
       "      <td>datascience</td>\n",
       "      <td>https://www.reddit.com/r/datascience/comments/...</td>\n",
       "      <td>123</td>\n",
       "      <td>\\n\\nWelcome to this week's entering &amp; transit...</td>\n",
       "      <td>1.675660e+09</td>\n",
       "    </tr>\n",
       "    <tr>\n",
       "      <th>1</th>\n",
       "      <td>Calling all NLP gurus, Meta is paying top doll...</td>\n",
       "      <td>723</td>\n",
       "      <td>10zvb04</td>\n",
       "      <td>datascience</td>\n",
       "      <td>https://i.redd.it/ywof5cgsgnha1.jpg</td>\n",
       "      <td>65</td>\n",
       "      <td></td>\n",
       "      <td>1.676143e+09</td>\n",
       "    </tr>\n",
       "    <tr>\n",
       "      <th>2</th>\n",
       "      <td>Fun Post- Kind of Sampling would have been use...</td>\n",
       "      <td>7</td>\n",
       "      <td>110h9gi</td>\n",
       "      <td>datascience</td>\n",
       "      <td>https://www.reddit.com/r/datascience/comments/...</td>\n",
       "      <td>4</td>\n",
       "      <td>I recently rewatched Infinity war. As we all k...</td>\n",
       "      <td>1.676213e+09</td>\n",
       "    </tr>\n",
       "    <tr>\n",
       "      <th>3</th>\n",
       "      <td>What would you change about the culture in Dat...</td>\n",
       "      <td>4</td>\n",
       "      <td>110i4fw</td>\n",
       "      <td>datascience</td>\n",
       "      <td>https://www.reddit.com/r/datascience/comments/...</td>\n",
       "      <td>22</td>\n",
       "      <td>Every field has its culture. What would you ch...</td>\n",
       "      <td>1.676215e+09</td>\n",
       "    </tr>\n",
       "    <tr>\n",
       "      <th>4</th>\n",
       "      <td>Advice request: How to find a subject?</td>\n",
       "      <td>4</td>\n",
       "      <td>110fkep</td>\n",
       "      <td>datascience</td>\n",
       "      <td>https://www.reddit.com/r/datascience/comments/...</td>\n",
       "      <td>1</td>\n",
       "      <td>Hello, I came here because this has been buggi...</td>\n",
       "      <td>1.676208e+09</td>\n",
       "    </tr>\n",
       "    <tr>\n",
       "      <th>...</th>\n",
       "      <td>...</td>\n",
       "      <td>...</td>\n",
       "      <td>...</td>\n",
       "      <td>...</td>\n",
       "      <td>...</td>\n",
       "      <td>...</td>\n",
       "      <td>...</td>\n",
       "      <td>...</td>\n",
       "    </tr>\n",
       "    <tr>\n",
       "      <th>595</th>\n",
       "      <td>DS career doubt</td>\n",
       "      <td>5</td>\n",
       "      <td>10nfzg4</td>\n",
       "      <td>datascience</td>\n",
       "      <td>https://www.reddit.com/r/datascience/comments/...</td>\n",
       "      <td>16</td>\n",
       "      <td>Hey I'm a business consultant, and by the end ...</td>\n",
       "      <td>1.674915e+09</td>\n",
       "    </tr>\n",
       "    <tr>\n",
       "      <th>596</th>\n",
       "      <td>Creating Real-World AI Models by Newbies With ...</td>\n",
       "      <td>0</td>\n",
       "      <td>10nqco3</td>\n",
       "      <td>datascience</td>\n",
       "      <td>https://xrl1.sh/posts/coordinates-model-with-C...</td>\n",
       "      <td>0</td>\n",
       "      <td></td>\n",
       "      <td>1.674942e+09</td>\n",
       "    </tr>\n",
       "    <tr>\n",
       "      <th>597</th>\n",
       "      <td>Implementing GPTZero from scratch</td>\n",
       "      <td>6</td>\n",
       "      <td>10ndm39</td>\n",
       "      <td>datascience</td>\n",
       "      <td>https://www.reddit.com/r/datascience/comments/...</td>\n",
       "      <td>0</td>\n",
       "      <td>We've gone through the original implementation...</td>\n",
       "      <td>1.674908e+09</td>\n",
       "    </tr>\n",
       "    <tr>\n",
       "      <th>598</th>\n",
       "      <td>Does this field attract arrogant people?</td>\n",
       "      <td>232</td>\n",
       "      <td>10mmwnd</td>\n",
       "      <td>datascience</td>\n",
       "      <td>https://www.reddit.com/r/datascience/comments/...</td>\n",
       "      <td>123</td>\n",
       "      <td>I have just noticed that a lot of people in th...</td>\n",
       "      <td>1.674832e+09</td>\n",
       "    </tr>\n",
       "    <tr>\n",
       "      <th>599</th>\n",
       "      <td>How to predict a series of events</td>\n",
       "      <td>6</td>\n",
       "      <td>10nd210</td>\n",
       "      <td>datascience</td>\n",
       "      <td>https://www.reddit.com/r/datascience/comments/...</td>\n",
       "      <td>6</td>\n",
       "      <td>Context: I work for an e-commerce that is tryi...</td>\n",
       "      <td>1.674906e+09</td>\n",
       "    </tr>\n",
       "  </tbody>\n",
       "</table>\n",
       "<p>600 rows × 8 columns</p>\n",
       "</div>"
      ],
      "text/plain": [
       "                                                 title  score       id  \\\n",
       "0    Weekly Entering & Transitioning - Thread 06 Fe...      7  10uy5z1   \n",
       "1    Calling all NLP gurus, Meta is paying top doll...    723  10zvb04   \n",
       "2    Fun Post- Kind of Sampling would have been use...      7  110h9gi   \n",
       "3    What would you change about the culture in Dat...      4  110i4fw   \n",
       "4               Advice request: How to find a subject?      4  110fkep   \n",
       "..                                                 ...    ...      ...   \n",
       "595                                    DS career doubt      5  10nfzg4   \n",
       "596  Creating Real-World AI Models by Newbies With ...      0  10nqco3   \n",
       "597                  Implementing GPTZero from scratch      6  10ndm39   \n",
       "598           Does this field attract arrogant people?    232  10mmwnd   \n",
       "599                  How to predict a series of events      6  10nd210   \n",
       "\n",
       "       subreddit                                                url  \\\n",
       "0    datascience  https://www.reddit.com/r/datascience/comments/...   \n",
       "1    datascience                https://i.redd.it/ywof5cgsgnha1.jpg   \n",
       "2    datascience  https://www.reddit.com/r/datascience/comments/...   \n",
       "3    datascience  https://www.reddit.com/r/datascience/comments/...   \n",
       "4    datascience  https://www.reddit.com/r/datascience/comments/...   \n",
       "..           ...                                                ...   \n",
       "595  datascience  https://www.reddit.com/r/datascience/comments/...   \n",
       "596  datascience  https://xrl1.sh/posts/coordinates-model-with-C...   \n",
       "597  datascience  https://www.reddit.com/r/datascience/comments/...   \n",
       "598  datascience  https://www.reddit.com/r/datascience/comments/...   \n",
       "599  datascience  https://www.reddit.com/r/datascience/comments/...   \n",
       "\n",
       "     num_comments                                               body  \\\n",
       "0             123   \\n\\nWelcome to this week's entering & transit...   \n",
       "1              65                                                      \n",
       "2               4  I recently rewatched Infinity war. As we all k...   \n",
       "3              22  Every field has its culture. What would you ch...   \n",
       "4               1  Hello, I came here because this has been buggi...   \n",
       "..            ...                                                ...   \n",
       "595            16  Hey I'm a business consultant, and by the end ...   \n",
       "596             0                                                      \n",
       "597             0  We've gone through the original implementation...   \n",
       "598           123  I have just noticed that a lot of people in th...   \n",
       "599             6  Context: I work for an e-commerce that is tryi...   \n",
       "\n",
       "          created  \n",
       "0    1.675660e+09  \n",
       "1    1.676143e+09  \n",
       "2    1.676213e+09  \n",
       "3    1.676215e+09  \n",
       "4    1.676208e+09  \n",
       "..            ...  \n",
       "595  1.674915e+09  \n",
       "596  1.674942e+09  \n",
       "597  1.674908e+09  \n",
       "598  1.674832e+09  \n",
       "599  1.674906e+09  \n",
       "\n",
       "[600 rows x 8 columns]"
      ]
     },
     "execution_count": 4,
     "metadata": {},
     "output_type": "execute_result"
    }
   ],
   "source": [
    "posts = []\n",
    "name='datascience'\n",
    "ml_subreddit = reddit.subreddit(name)\n",
    "for post in ml_subreddit.hot(limit=600): # top, new or hot commands\n",
    "    \n",
    "    posts.append([post.title, post.score, post.id, post.subreddit, post.url, post.num_comments, post.selftext, post.created])\n",
    "posts = pd.DataFrame(posts,columns = ['title', 'score', 'id', 'subreddit', 'url', 'num_comments', 'body', 'created'])\n",
    "\n",
    "path=str(r'C:\\Users\\pizza\\Desktop\\projects\\uploaded\\reddit_scrapping_project\\%s%s'%(name,'.csv'))\n",
    "\n",
    "posts.to_csv(path, index = False)\n",
    "posts"
   ]
  },
  {
   "cell_type": "markdown",
   "id": "1ebcc582",
   "metadata": {},
   "source": [
    "## 3. Reading ``.csv`` files to access the data"
   ]
  },
  {
   "cell_type": "markdown",
   "id": "a2d492e9",
   "metadata": {},
   "source": [
    "The csv module in Python provides a reader class for reading CSV files. The csv.reader class allows us to iterate over the rows of a CSV file and access the data in a row-by-row fashion. This is useful when we have a large CSV file and don't want to load the entire file into memory at once. By using the csv.reader class, we can read the file in chunks and process the data incrementally."
   ]
  },
  {
   "cell_type": "code",
   "execution_count": 5,
   "id": "89f2810a",
   "metadata": {
    "scrolled": true
   },
   "outputs": [],
   "source": [
    "opened_file = open(\"C:/Users/pizza/Desktop/projects/uploaded/reddit_scrapping_project/\" + name + \".csv\", encoding = \"utf8\")\n",
    "from csv import reader\n",
    "read_file = reader(opened_file)\n",
    "posts_data = list(read_file)"
   ]
  },
  {
   "cell_type": "markdown",
   "id": "9f0801c5",
   "metadata": {},
   "source": [
    "Since our goal is to determine the impact of key words in the post engagement, our first approach is to split the `title` items into a list of of strings. Emoji impact will also be taken into account, thus the reason for using the following `.split` method from the Regex Python library."
   ]
  },
  {
   "cell_type": "code",
   "execution_count": 6,
   "id": "7bfa4666",
   "metadata": {
    "scrolled": true
   },
   "outputs": [],
   "source": [
    "title_list=[]\n",
    "for row in posts_data[1:]:\n",
    "    text=row[0]\n",
    "    title=re.split('(\\W)', text)\n",
    "    title_list.append(title)"
   ]
  },
  {
   "cell_type": "markdown",
   "id": "083b1650",
   "metadata": {},
   "source": [
    "The code in the cell above gives a list of lists where each row is composed of a list of words and special characters (including spaces, commas, question marks, etc). This approach will come in useful for future analysis. "
   ]
  },
  {
   "cell_type": "markdown",
   "id": "e7a7baaa",
   "metadata": {},
   "source": [
    "## 4. Unique word filter"
   ]
  },
  {
   "cell_type": "markdown",
   "id": "1c3ae530",
   "metadata": {},
   "source": [
    "We create the function `unique_word_counter` which first initializes an empty list ``complete_list``, which will be used to store the lists of unique words. Then, the function iterates over each string in ``a_list`` using a for loop. For each ``string``, a new list ``new_list`` is created, and a counter ``n`` is initialized to ``0``.\n",
    "\n",
    "The function then uses a while loop to iterate over each word in the current string, starting from the first word. For each word, the function checks if it is in the ``new_list``. If the word is not in new_list, it is added. If the word is already in ``new_list``, the loop continues to the next word without adding it again. We define a function to filter out repeated words in the same title. This way we create a list of words containing only unique words and characters for every title."
   ]
  },
  {
   "cell_type": "code",
   "execution_count": 7,
   "id": "a16e99f8",
   "metadata": {
    "scrolled": true
   },
   "outputs": [
    {
     "name": "stdout",
     "output_type": "stream",
     "text": [
      "[['Weekly', ' ', 'Entering', '', '&', 'Transitioning', '-', 'Thread', '06', 'Feb', ',', '2023', '13'], ['Calling', ' ', 'all', 'NLP', 'gurus', ',', '', 'Meta', 'is', 'paying', 'top', 'dollar', '😂'], ['Fun', ' ', 'Post', '-', '', 'Kind', 'of', 'Sampling', 'would', 'have', 'been', 'used', 'in', 'Infinity', 'War', '.'], ['What', ' ', 'would', 'you', 'change', 'about', 'the', 'culture', 'in', 'Datascience', '?', ''], ['Advice', ' ', 'request', ':', '', 'How', 'to', 'find', 'a', 'subject', '?']]\n"
     ]
    }
   ],
   "source": [
    "def unique_word_counter (a_list):\n",
    "    complete_list=[]\n",
    "    for title in a_list:\n",
    "        new_list=[]\n",
    "        n=0\n",
    "        while n < len(title):\n",
    "            word=title[n]\n",
    "            if word not in new_list:\n",
    "                new_list.append(word)\n",
    "            elif word in new_list: \n",
    "                pass\n",
    "            n=n+1\n",
    "        complete_list.append(new_list)\n",
    "    return complete_list\n",
    "\n",
    "new_title_list=unique_word_counter(title_list)\n",
    "print(new_title_list[:5])"
   ]
  },
  {
   "cell_type": "markdown",
   "id": "34399edf",
   "metadata": {},
   "source": [
    "### 4.1 Parallel iteration through 2 lists"
   ]
  },
  {
   "cell_type": "markdown",
   "id": "89c65420",
   "metadata": {},
   "source": [
    "Parallel iteration allows us to go over two lists simultaneously, where each iteration of the loop accesses the corresponding elements of both lists. This can be achieved using the ``zip`` function, which returns an iterator of tuples, where each tuple contains the elements from each list with the same index. This allows for operations to be performed on the elements of both lists in parallel.\n",
    "\n",
    "Iterating through ``new_title_list`` and the `posts_data` arrays in order to add to each row information regarding the post number of upvotes and the post number of comments."
   ]
  },
  {
   "cell_type": "code",
   "execution_count": 8,
   "id": "efc89baa",
   "metadata": {
    "scrolled": true
   },
   "outputs": [
    {
     "name": "stdout",
     "output_type": "stream",
     "text": [
      "[['Weekly', ' ', 'Entering', '', '&', 'Transitioning', '-', 'Thread', '06', 'Feb', ',', '2023', '13', '7', '123'], ['Calling', ' ', 'all', 'NLP', 'gurus', ',', '', 'Meta', 'is', 'paying', 'top', 'dollar', '😂', '723', '65'], ['Fun', ' ', 'Post', '-', '', 'Kind', 'of', 'Sampling', 'would', 'have', 'been', 'used', 'in', 'Infinity', 'War', '.', '7', '4'], ['What', ' ', 'would', 'you', 'change', 'about', 'the', 'culture', 'in', 'Datascience', '?', '', '4', '22'], ['Advice', ' ', 'request', ':', '', 'How', 'to', 'find', 'a', 'subject', '?', '4', '1']]\n"
     ]
    }
   ],
   "source": [
    "listanueva1=[]\n",
    "for f, b in list(zip(new_title_list, posts_data[1:])):\n",
    "    listanueva1.append(f + [b[1], b[5]])\n",
    "print(listanueva1[:5])"
   ]
  },
  {
   "cell_type": "markdown",
   "id": "b5a626f0",
   "metadata": {},
   "source": [
    "As we can see the structure for our list of lists is comprised of different rows, each containing the information of:\n",
    "- List of the different words from each title\n",
    "- Upvotes count\n",
    "- Number of comments"
   ]
  },
  {
   "cell_type": "markdown",
   "id": "bb5c5448",
   "metadata": {},
   "source": [
    "### 4.2 Cleaning irrelevant characters and lower casing all words"
   ]
  },
  {
   "cell_type": "markdown",
   "id": "f1020e1f",
   "metadata": {},
   "source": [
    "Note that I intentionally maintained the punctuation characters of `,` and `.` in order to determine in future versions if long or complex syntax titles get more upvotes. We will also remove all words with 2 or 1 character as to avoid prepositions and numbers."
   ]
  },
  {
   "cell_type": "code",
   "execution_count": 9,
   "id": "6143d245",
   "metadata": {
    "scrolled": true
   },
   "outputs": [],
   "source": [
    "# Initialize two empty lists to store the processed words\n",
    "cleaned=[]\n",
    "clean=[]\n",
    "\n",
    "for title in listanueva1:\n",
    "\n",
    "    clean = []\n",
    " \n",
    "    for word in title[:-2]: \n",
    "        # Check if the word is a space, an empty string, or has less than 3 characters\n",
    "        if word == \" \" or word == \"\" or len(word) < 3:\n",
    "            # If so, remove the word\n",
    "            title.remove(word)\n",
    "        else:\n",
    "            # If the word passes the above checks, convert it to lowercase\n",
    "            word = word.lower()\n",
    "            clean.append(word)\n",
    "    cleaned.append(clean)"
   ]
  },
  {
   "cell_type": "code",
   "execution_count": 10,
   "id": "8c3f1fd7",
   "metadata": {},
   "outputs": [
    {
     "name": "stdout",
     "output_type": "stream",
     "text": [
      "[['weekly', 'entering', 'transitioning', 'thread', 'feb', '2023', '7', '123'], ['calling', 'all', 'nlp', 'gurus', 'meta', 'paying', 'top', 'dollar', '723', '65'], ['fun', 'post', 'kind', 'sampling', 'would', 'have', 'been', 'used', 'infinity', 'war', '7', '4'], ['what', 'would', 'you', 'change', 'about', 'the', 'culture', 'datascience', '4', '22'], ['advice', 'request', 'how', 'find', 'subject', '4', '1']]\n"
     ]
    }
   ],
   "source": [
    "listanueva=[]\n",
    "for f, b in list(zip(cleaned, listanueva1)):\n",
    "    listanueva.append(f + [b[-2], b[-1]])\n",
    "print(listanueva[:5])"
   ]
  },
  {
   "cell_type": "markdown",
   "id": "34dc9e56",
   "metadata": {},
   "source": [
    "## 5. Relevant data per unique word"
   ]
  },
  {
   "cell_type": "markdown",
   "id": "f601b704",
   "metadata": {},
   "source": [
    "We create different dictionaries to store the global amount of upvotes and comments for each word or special character. Additionally we also count the amount of times a unique word or character has been posted. Note that words appearing more than once in the same title will not be taken into account. "
   ]
  },
  {
   "cell_type": "markdown",
   "id": "af076d7c",
   "metadata": {},
   "source": [
    "### 5.1 Upvotes"
   ]
  },
  {
   "cell_type": "markdown",
   "id": "1eac9e6c",
   "metadata": {},
   "source": [
    "We create an empty dictionary called ``upvotes_dictionary``. It then iterates over a list called ``listanueva``, and for each element in the list, it iterates over a slice of that element (excluding the last two elements) which is a list of words. For each word, we retrieve the value of the second-to-last element in the current element of ``listanueva`` which is the score, and assigns it to the variable score.\n",
    "\n",
    "Lastly it check if the current word is already in ``upvotes_dictionary``. If it is, the code adds the score to the value associated with that word. If it is not, the code adds the word as a new key in the dictionary and assigns the score as its value."
   ]
  },
  {
   "cell_type": "code",
   "execution_count": 11,
   "id": "b8cf2a09",
   "metadata": {
    "scrolled": true
   },
   "outputs": [],
   "source": [
    "upvotes_dictionary={}\n",
    "for row in listanueva:\n",
    "    for word in row[:-2]:\n",
    "        score = int(row[-2])\n",
    "    \n",
    "        if word in upvotes_dictionary:\n",
    "            upvotes_dictionary[word] = upvotes_dictionary[word] + score\n",
    "        \n",
    "        elif word not in upvotes_dictionary:\n",
    "            upvotes_dictionary[word] = score"
   ]
  },
  {
   "cell_type": "markdown",
   "id": "cd6eea6a",
   "metadata": {},
   "source": [
    "### 5.2 Comments number"
   ]
  },
  {
   "cell_type": "markdown",
   "id": "726b972d",
   "metadata": {},
   "source": [
    "Similarly to our last step, we implement the following code to create the ``comments_dictionary``. We then iterate through each row in the ``listanueva list``. For each row, we iterate through each word in the row, excluding the last two elements (the score and the number of comments). Then we retrieve the number of comments for the current word and adds it to the count in the ``comments_dictionary`` dictionary. If the word is already a ``key`` in the dictionary, the count is updated by adding the comments. If the word is not yet in the dictionary, it is added as a new ``key`` with the comments count as the value."
   ]
  },
  {
   "cell_type": "code",
   "execution_count": 12,
   "id": "398e89ae",
   "metadata": {
    "scrolled": true
   },
   "outputs": [],
   "source": [
    "comments_dictionary={}\n",
    "for row in listanueva:\n",
    "    for word in row[:-2]:\n",
    "        comments = int(row[-1])\n",
    "    \n",
    "        if word in comments_dictionary:\n",
    "            comments_dictionary[word] = comments_dictionary[word] + comments\n",
    "        \n",
    "        elif word not in comments_dictionary:\n",
    "            comments_dictionary[word] = comments"
   ]
  },
  {
   "cell_type": "markdown",
   "id": "4ff5c6ca",
   "metadata": {},
   "source": [
    "### 5.3 Unique word counter"
   ]
  },
  {
   "cell_type": "markdown",
   "id": "53da18d0",
   "metadata": {},
   "source": [
    "The following dictionary stores a list of unique words along with its total count."
   ]
  },
  {
   "cell_type": "code",
   "execution_count": 13,
   "id": "7f7468bc",
   "metadata": {},
   "outputs": [],
   "source": [
    "count_dictionary={}\n",
    "for row in listanueva:\n",
    "    for word in row[:-2]:\n",
    "    \n",
    "        if word in count_dictionary:\n",
    "            count_dictionary[word] = count_dictionary[word] + 1\n",
    "        \n",
    "        elif word not in count_dictionary:\n",
    "            count_dictionary[word] = 1 "
   ]
  },
  {
   "cell_type": "markdown",
   "id": "5a8b2215",
   "metadata": {},
   "source": [
    "### 5.4 Upvotes - Comments number ratio"
   ]
  },
  {
   "cell_type": "markdown",
   "id": "6f9626f6",
   "metadata": {},
   "source": [
    "The upvotes/comments ratio can be an interesting value to further look into"
   ]
  },
  {
   "cell_type": "code",
   "execution_count": 14,
   "id": "c4d2d07e",
   "metadata": {},
   "outputs": [],
   "source": [
    "mean_dictionary = {x:float(upvotes_dictionary[x])/count_dictionary[x] for x in count_dictionary}"
   ]
  },
  {
   "cell_type": "markdown",
   "id": "066b44e5",
   "metadata": {},
   "source": [
    "### 5.5 Sorting dictionaries"
   ]
  },
  {
   "cell_type": "markdown",
   "id": "62a687ba",
   "metadata": {},
   "source": [
    "Below are shown the top 20 words for each dictionary"
   ]
  },
  {
   "cell_type": "markdown",
   "id": "e13d2d21",
   "metadata": {},
   "source": [
    "#### 5.5.1 Upvotes dictionary"
   ]
  },
  {
   "cell_type": "code",
   "execution_count": 15,
   "id": "1418759a",
   "metadata": {
    "scrolled": false
   },
   "outputs": [
    {
     "data": {
      "text/plain": [
       "[('data', 3815),\n",
       " ('this', 3601),\n",
       " ('the', 3008),\n",
       " ('manager', 2875),\n",
       " ('hiring', 2623),\n",
       " ('what', 2488),\n",
       " ('here', 2421),\n",
       " ('right', 2394),\n",
       " ('thoughts', 1709),\n",
       " ('with', 1626)]"
      ]
     },
     "execution_count": 15,
     "metadata": {},
     "output_type": "execute_result"
    }
   ],
   "source": [
    "sorted_upvotes_dictionary = dict(sorted(upvotes_dictionary.items(), key=lambda item: item[1], reverse=True))\n",
    "\n",
    "list(sorted_upvotes_dictionary.items())[:10]"
   ]
  },
  {
   "cell_type": "markdown",
   "id": "57d157ec",
   "metadata": {},
   "source": [
    "#### 5.5.2 Comments dictionary"
   ]
  },
  {
   "cell_type": "code",
   "execution_count": 16,
   "id": "6c881524",
   "metadata": {},
   "outputs": [
    {
     "data": {
      "text/plain": [
       "[('data', 2779),\n",
       " ('the', 1406),\n",
       " ('for', 1399),\n",
       " ('what', 1173),\n",
       " ('how', 1139),\n",
       " ('with', 1038),\n",
       " ('and', 1001),\n",
       " ('science', 890),\n",
       " ('you', 886),\n",
       " ('this', 863)]"
      ]
     },
     "execution_count": 16,
     "metadata": {},
     "output_type": "execute_result"
    }
   ],
   "source": [
    "sorted_comments_dictionary = dict(sorted(comments_dictionary.items(), key=lambda item: item[1], reverse=True))\n",
    "\n",
    "list(sorted_comments_dictionary.items())[:10]"
   ]
  },
  {
   "cell_type": "markdown",
   "id": "da106002",
   "metadata": {},
   "source": [
    "#### 5.5.3 Mean dictionary"
   ]
  },
  {
   "cell_type": "code",
   "execution_count": 17,
   "id": "bf0aedbb",
   "metadata": {
    "scrolled": true
   },
   "outputs": [
    {
     "data": {
      "text/plain": [
       "[('waittt', 1568.0),\n",
       " ('speak', 1060.0),\n",
       " ('calling', 723.0),\n",
       " ('gurus', 723.0),\n",
       " ('paying', 723.0),\n",
       " ('dollar', 723.0),\n",
       " ('hiring', 655.75),\n",
       " ('right', 598.5),\n",
       " ('barely', 565.0),\n",
       " ('continue', 545.0)]"
      ]
     },
     "execution_count": 17,
     "metadata": {},
     "output_type": "execute_result"
    }
   ],
   "source": [
    "sorted_mean_dictionary = dict(sorted(mean_dictionary.items(), key=lambda item: item[1], reverse=True))\n",
    "\n",
    "list(sorted_mean_dictionary.items())[:10]"
   ]
  },
  {
   "cell_type": "markdown",
   "id": "c7914bf5",
   "metadata": {},
   "source": [
    "#### 5.5.4 Count dictionary"
   ]
  },
  {
   "cell_type": "code",
   "execution_count": 18,
   "id": "68d73d56",
   "metadata": {
    "scrolled": true
   },
   "outputs": [
    {
     "data": {
      "text/plain": [
       "[('data', 214),\n",
       " ('for', 117),\n",
       " ('science', 93),\n",
       " ('the', 86),\n",
       " ('how', 81),\n",
       " ('and', 72),\n",
       " ('what', 62),\n",
       " ('with', 57),\n",
       " ('you', 52),\n",
       " ('job', 36)]"
      ]
     },
     "execution_count": 18,
     "metadata": {},
     "output_type": "execute_result"
    }
   ],
   "source": [
    "sorted_count_dictionary = dict(sorted(count_dictionary.items(), key=lambda item: item[1], reverse=True))\n",
    "\n",
    "list(sorted_count_dictionary.items())[:10]"
   ]
  },
  {
   "cell_type": "code",
   "execution_count": 19,
   "id": "ee9b0ab9",
   "metadata": {},
   "outputs": [
    {
     "data": {
      "text/plain": [
       "1567"
      ]
     },
     "execution_count": 19,
     "metadata": {},
     "output_type": "execute_result"
    }
   ],
   "source": [
    "len(count_dictionary)"
   ]
  },
  {
   "cell_type": "markdown",
   "id": "c56bf11d",
   "metadata": {},
   "source": [
    "## 6. Visualizing results"
   ]
  },
  {
   "cell_type": "code",
   "execution_count": 21,
   "id": "60723afc",
   "metadata": {},
   "outputs": [
    {
     "data": {
      "image/png": "[encoded data removed]",
      "text/plain": [
       "<Figure size 1080x360 with 1 Axes>"
      ]
     },
     "metadata": {
      "needs_background": "dark"
     },
     "output_type": "display_data"
    }
   ],
   "source": [
    "import matplotlib.pyplot as plt\n",
    "\n",
    "words = list(sorted_upvotes_dictionary.keys())[:20]\n",
    "values = list(sorted_upvotes_dictionary.values())[:20]\n",
    "\n",
    "fig, ax = plt.subplots(figsize=(15, 5))\n",
    "for location in ['left', 'right', 'top', 'bottom']:\n",
    "    ax.spines[location].set_visible(False)\n",
    "    \n",
    "ax.tick_params(top=False, left=False)\n",
    "ax.tick_params(axis='x', colors='grey')\n",
    "ax.tick_params(axis='y', colors='grey')\n",
    "\n",
    "ax.bar(words, values, color='#90EE90', alpha = 0.6)\n",
    "ax.set_xlabel('Words', fontsize=12, color = \"grey\")\n",
    "ax.set_ylabel('Mean Value', fontsize=12, color=\"grey\")\n",
    "ax.set_title('Top 20 Words with the Highest Global Upvote Count', fontsize=16, color = \"grey\")\n",
    "ax.tick_params(axis='both', which='major', labelsize=10)\n",
    "plt.xticks(rotation=45)\n",
    "plt.show()"
   ]
  },
  {
   "cell_type": "code",
   "execution_count": 22,
   "id": "773c2635",
   "metadata": {},
   "outputs": [
    {
     "data": {
      "image/png": "[encoded data removed]",
      "text/plain": [
       "<Figure size 1080x360 with 1 Axes>"
      ]
     },
     "metadata": {
      "needs_background": "dark"
     },
     "output_type": "display_data"
    }
   ],
   "source": [
    "words = list(sorted_comments_dictionary.keys())[:20]\n",
    "values = list(sorted_comments_dictionary.values())[:20]\n",
    "\n",
    "fig, ax = plt.subplots(figsize=(15, 5))\n",
    "for location in ['left', 'right', 'top', 'bottom']:\n",
    "    ax.spines[location].set_visible(False)\n",
    "    \n",
    "ax.tick_params(top=False, left=False)\n",
    "ax.tick_params(axis='x', colors='grey')\n",
    "ax.tick_params(axis='y', colors='grey')\n",
    "\n",
    "ax.bar(words, values, color='#FFA500', alpha =0.6)\n",
    "ax.set_xlabel('Words', fontsize=12, color = \"grey\")\n",
    "ax.set_ylabel('Mean Value', fontsize=12, color=\"grey\")\n",
    "ax.set_title('Top 20 Words with the Highest Comment Count', fontsize=16, color = \"grey\")\n",
    "ax.tick_params(axis='both', which='major', labelsize=10)\n",
    "plt.xticks(rotation=45)\n",
    "plt.show()"
   ]
  },
  {
   "cell_type": "code",
   "execution_count": 23,
   "id": "c65c70c2",
   "metadata": {
    "scrolled": false
   },
   "outputs": [
    {
     "data": {
      "image/png": "[encoded data removed]",
      "text/plain": [
       "<Figure size 1080x360 with 1 Axes>"
      ]
     },
     "metadata": {
      "needs_background": "dark"
     },
     "output_type": "display_data"
    }
   ],
   "source": [
    "import matplotlib.pyplot as plt\n",
    "\n",
    "words = list(sorted_mean_dictionary.keys())[:20]\n",
    "values = list(sorted_mean_dictionary.values())[:20]\n",
    "\n",
    "fig, ax = plt.subplots(figsize=(15, 5))\n",
    "for location in ['left', 'right', 'top', 'bottom']:\n",
    "    ax.spines[location].set_visible(False)\n",
    "    \n",
    "ax.tick_params(top=False, left=False)\n",
    "ax.tick_params(axis='x', colors='grey')\n",
    "ax.tick_params(axis='y', colors='grey')\n",
    "\n",
    "ax.bar(words, values, color='b', alpha =0.6)\n",
    "ax.set_xlabel('Words', fontsize=12, color = \"grey\")\n",
    "ax.set_ylabel('Mean Value', fontsize=12, color=\"grey\")\n",
    "ax.set_title('Top 20 Words with the Highest Upvote/Comment Ratio', fontsize=16, color = \"grey\")\n",
    "ax.tick_params(axis='both', which='major', labelsize=10)\n",
    "plt.xticks(rotation=45)\n",
    "plt.show()"
   ]
  },
  {
   "cell_type": "markdown",
   "id": "a48f307e",
   "metadata": {},
   "source": [
    "## 7. Using Chat GPT API"
   ]
  },
  {
   "cell_type": "markdown",
   "id": "8b8b1436",
   "metadata": {},
   "source": [
    "We install the OpenAI library and set up an API key to use with the OpenAI API. The OpenAI library provides access to state-of-the-art machine learning models and allows to integrate these models into their own applications. By setting up an API key, we get granted access to the OpenAI API, which provides a convenient interface for working with the models provided by OpenAI. The API key is a unique string that acts as an identifier and enables access to the API, so it is important to keep it secure."
   ]
  },
  {
   "cell_type": "markdown",
   "id": "dbfe956e",
   "metadata": {},
   "source": [
    "### 7.1 Setting up the OpenAI API"
   ]
  },
  {
   "cell_type": "code",
   "execution_count": 24,
   "id": "3575e28b",
   "metadata": {},
   "outputs": [
    {
     "name": "stdout",
     "output_type": "stream",
     "text": [
      "Requirement already satisfied: openai in c:\\users\\pizza\\anaconda3\\lib\\site-packages (0.26.5)\n",
      "Requirement already satisfied: requests>=2.20 in c:\\users\\pizza\\anaconda3\\lib\\site-packages (from openai) (2.25.1)\n",
      "Requirement already satisfied: tqdm in c:\\users\\pizza\\anaconda3\\lib\\site-packages (from openai) (4.64.1)\n",
      "Requirement already satisfied: aiohttp in c:\\users\\pizza\\anaconda3\\lib\\site-packages (from openai) (3.8.3)\n",
      "Requirement already satisfied: chardet<5,>=3.0.2 in c:\\users\\pizza\\anaconda3\\lib\\site-packages (from requests>=2.20->openai) (4.0.0)\n",
      "Requirement already satisfied: idna<3,>=2.5 in c:\\users\\pizza\\anaconda3\\lib\\site-packages (from requests>=2.20->openai) (2.10)\n",
      "Requirement already satisfied: certifi>=2017.4.17 in c:\\users\\pizza\\anaconda3\\lib\\site-packages (from requests>=2.20->openai) (2020.12.5)\n",
      "Requirement already satisfied: urllib3<1.27,>=1.21.1 in c:\\users\\pizza\\anaconda3\\lib\\site-packages (from requests>=2.20->openai) (1.26.4)\n",
      "Requirement already satisfied: frozenlist>=1.1.1 in c:\\users\\pizza\\anaconda3\\lib\\site-packages (from aiohttp->openai) (1.3.3)\n",
      "Requirement already satisfied: attrs>=17.3.0 in c:\\users\\pizza\\anaconda3\\lib\\site-packages (from aiohttp->openai) (20.3.0)\n",
      "Requirement already satisfied: aiosignal>=1.1.2 in c:\\users\\pizza\\anaconda3\\lib\\site-packages (from aiohttp->openai) (1.3.1)\n",
      "Requirement already satisfied: charset-normalizer<3.0,>=2.0 in c:\\users\\pizza\\anaconda3\\lib\\site-packages (from aiohttp->openai) (2.1.1)\n",
      "Requirement already satisfied: yarl<2.0,>=1.0 in c:\\users\\pizza\\anaconda3\\lib\\site-packages (from aiohttp->openai) (1.8.2)\n",
      "Requirement already satisfied: multidict<7.0,>=4.5 in c:\\users\\pizza\\anaconda3\\lib\\site-packages (from aiohttp->openai) (6.0.4)\n",
      "Requirement already satisfied: async-timeout<5.0,>=4.0.0a3 in c:\\users\\pizza\\anaconda3\\lib\\site-packages (from aiohttp->openai) (4.0.2)\n",
      "Requirement already satisfied: colorama in c:\\users\\pizza\\anaconda3\\lib\\site-packages (from tqdm->openai) (0.4.4)\n"
     ]
    }
   ],
   "source": [
    "!pip install openai\n",
    "import openai\n",
    "\n",
    "# Replace the \"YOUR_API_KEY\" with your own OpenAI API key to be able to use the library and API\n",
    "openai.api_key = \"YOUR_API_KEY\""
   ]
  },
  {
   "cell_type": "markdown",
   "id": "501970de",
   "metadata": {},
   "source": [
    "### 7.2 Generating post titles"
   ]
  },
  {
   "cell_type": "markdown",
   "id": "10e96b32",
   "metadata": {},
   "source": [
    "We will feed ChatGPT a list with the top 10 words by global ``upvotes`` count. Below we display the list of the top 10 words to better visualize it."
   ]
  },
  {
   "cell_type": "code",
   "execution_count": 25,
   "id": "d9d877ca",
   "metadata": {},
   "outputs": [
    {
     "name": "stdout",
     "output_type": "stream",
     "text": [
      "['data', 'the', 'for', 'what', 'how', 'with', 'and', 'science', 'you', 'this']\n"
     ]
    }
   ],
   "source": [
    "keywords = list(sorted_comments_dictionary.keys())[:10]\n",
    "print(keywords)"
   ]
  },
  {
   "cell_type": "markdown",
   "id": "9d232920",
   "metadata": {},
   "source": [
    "We join the list of words into a string and separate it by comas in order to facilitate the reading of words to the ChatGPT tool."
   ]
  },
  {
   "cell_type": "code",
   "execution_count": 26,
   "id": "8c4c948a",
   "metadata": {},
   "outputs": [
    {
     "name": "stdout",
     "output_type": "stream",
     "text": [
      "data, the, for, what, how, with, and, science, you, this\n"
     ]
    }
   ],
   "source": [
    "key_words = (' ').join(keywords)\n",
    "key_words = key_words.replace(\" \", \", \")\n",
    "print(key_words)"
   ]
  },
  {
   "cell_type": "markdown",
   "id": "5dd404c7",
   "metadata": {},
   "source": [
    "We set up some parameters, I used the model Davinci 003 on this project. The prompt is what we will introduce as an input to the ChatGPT tool. We will set some instructions to guide it on what to do with the ``key_words`` list. For this example the `max_token`, which refers to the maximum of characters expected on the output, I have selected 60."
   ]
  },
  {
   "cell_type": "code",
   "execution_count": 27,
   "id": "212df1d8",
   "metadata": {
    "scrolled": false
   },
   "outputs": [],
   "source": [
    "# Set the model and prompt\n",
    "model_engine = \"text-davinci-003\"\n",
    "\n",
    "initial_prompt= 'Write a post title for the topic of ' + name + ' use 2-4 of the following words: '\n",
    "\n",
    "prompt = initial_prompt + key_words\n",
    "\n",
    "# Set the maximum number of tokens to generate in the response\n",
    "max_tokens = 60"
   ]
  },
  {
   "cell_type": "markdown",
   "id": "b6e732b6",
   "metadata": {},
   "source": [
    "We create the function ``chatgpt`` which allows us to generate a given number ``num`` of outputs with a single query. "
   ]
  },
  {
   "cell_type": "code",
   "execution_count": 28,
   "id": "e05f55e3",
   "metadata": {},
   "outputs": [],
   "source": [
    "# Generate a response\n",
    "def chatgpt(prompt, num):\n",
    "    generations_list = []\n",
    "    n=0\n",
    "    while n < num:\n",
    "        completion = openai.Completion.create(engine=model_engine,prompt=prompt,max_tokens=max_tokens,temperature=0.5,top_p=1,frequency_penalty=0,presence_penalty=0)\n",
    "        generations_list.append(completion.choices[0].text)\n",
    "        n=n+1\n",
    "    return(generations_list)"
   ]
  },
  {
   "cell_type": "markdown",
   "id": "300940ce",
   "metadata": {},
   "source": [
    "### 7.3 Final output"
   ]
  },
  {
   "cell_type": "markdown",
   "id": "9e71fca4",
   "metadata": {},
   "source": [
    "We generate 10 different outputs to better allow us to choose the best post title for our purpose. As we can see in the results below sometimes ChatGPT generates the same response for the same input. "
   ]
  },
  {
   "cell_type": "code",
   "execution_count": 29,
   "id": "9697e901",
   "metadata": {},
   "outputs": [
    {
     "data": {
      "text/plain": [
       "['\\n\\n\"What You Can Do With Data Science: This and That\"',\n",
       " '\\n\\n\"What You Can Do With Data Science: This and That\"',\n",
       " '\\n\\n\"What You Can Do With Data Science: This and That\"',\n",
       " '\\n\\n\"How You Can Use Data Science with This For What You Need\"',\n",
       " '\\n\\n\"What You Can Do With Data Science: This and That\"',\n",
       " '\\n\\n\"What You Can Do With Data Science: This and That\"',\n",
       " '\\n\\n\"How You Can Use Data Science for This and That\"',\n",
       " '\\n\\n\"What You Can Do With Data Science: This and That\"',\n",
       " '\\n\\n\"How You Can Use Data Science for This\"',\n",
       " '\\n\\n\"What You Can Do With Data Science: This and That\"']"
      ]
     },
     "execution_count": 29,
     "metadata": {},
     "output_type": "execute_result"
    }
   ],
   "source": [
    "# Print the response\n",
    "\n",
    "chatgpt(prompt,10)"
   ]
  }
 ],
 "metadata": {
  "kernelspec": {
   "display_name": "Python 3",
   "language": "python",
   "name": "python3"
  },
  "language_info": {
   "codemirror_mode": {
    "name": "ipython",
    "version": 3
   },
   "file_extension": ".py",
   "mimetype": "text/x-python",
   "name": "python",
   "nbconvert_exporter": "python",
   "pygments_lexer": "ipython3",
   "version": "3.8.8"
  }
 },
 "nbformat": 4,
 "nbformat_minor": 5
}
